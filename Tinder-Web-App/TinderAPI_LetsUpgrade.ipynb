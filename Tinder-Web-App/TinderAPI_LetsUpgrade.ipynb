{
  "nbformat": 4,
  "nbformat_minor": 0,
  "metadata": {
    "colab": {
      "name": "TinderAPI-LetsUpgrade.ipynb",
      "provenance": [],
      "collapsed_sections": []
    },
    "kernelspec": {
      "name": "python3",
      "display_name": "Python 3"
    },
    "language_info": {
      "name": "python"
    }
  },
  "cells": [
    {
      "cell_type": "markdown",
      "metadata": {
        "id": "LWmHJtpEYLLn"
      },
      "source": [
        "**Step1** - \n",
        "**Tinder** **API**"
      ]
    },
    {
      "cell_type": "markdown",
      "metadata": {
        "id": "jMn_A41OYLIE"
      },
      "source": [
        "1. See the tinder demo\n",
        "2. List all the functions which we want to build\n",
        "3. Setup DB\n",
        "4. Start building Flask API\n",
        "5. Host the API on Heroku"
      ]
    },
    {
      "cell_type": "markdown",
      "metadata": {
        "id": "1zkyedV7YK98"
      },
      "source": [
        "**Step2** -\n",
        "**Basic prerequisites to take into consideration while creating Tinder API :**\n",
        "1. Login via mobile number using OTP -->\n",
        "2. Create profile with -->\n",
        "   1. Name\n",
        "   2. Number\n",
        "   3. Location\n",
        "      1. Lattitude & Longitude\n",
        "      2. City\n",
        "      3. State\n",
        "      4. Country\n",
        "   4. Gender\n",
        "   5. Job\n",
        "   6. Passion\n",
        "   7. Company\n",
        "   8. Age/DOB\n",
        "   9. Images * 9\n",
        "   -------------\n",
        "   10. UID (User Id)\n",
        "   11. CreatedAt\n",
        "   12. LastOpenedAt \n",
        "3. Feed -->\n",
        "   1. User Data Array []\n",
        "4. Matching -->\n",
        "   1. Left Swipe --> Rejecting\n",
        "   2. Right Swipe --> I want to talk!\n",
        "\n"
      ]
    },
    {
      "cell_type": "markdown",
      "metadata": {
        "id": "xYaKjvSBYKsc"
      },
      "source": [
        "**Step3**\n",
        "1. https://console.firebase.google.com/\n",
        "2. Auth\n",
        "3. Database --> Firestore\n",
        "4. Images Storing --> Firebase Storage\n",
        "\n",
        "Firebase Authentication is used for authenticating the user using multiple Auth providers, and default Email Id/Password\n"
      ]
    },
    {
      "cell_type": "markdown",
      "metadata": {
        "id": "G3E4U80tZG8i"
      },
      "source": [
        "**Step4**\n",
        "Make the Auth system for Login and SignUp using API"
      ]
    },
    {
      "cell_type": "markdown",
      "metadata": {
        "id": "MkQSKRtRZUF9"
      },
      "source": [
        "**Step5** -\n",
        "Features we want to build\n",
        "1. Login\n",
        "2. Sign \n",
        "3. Update User-Profile\n",
        "4. Feed\n",
        "5. Matching"
      ]
    },
    {
      "cell_type": "code",
      "metadata": {
        "id": "dicpSuTvYGiX"
      },
      "source": [
        "#Auth\n",
        "import firebase_admin"
      ],
      "execution_count": null,
      "outputs": []
    },
    {
      "cell_type": "code",
      "metadata": {
        "id": "mm-UGNDgZpub"
      },
      "source": [
        "# Import requirements\n",
        "from firebase_admin import auth, firestore, storage, credentials"
      ],
      "execution_count": null,
      "outputs": []
    },
    {
      "cell_type": "code",
      "metadata": {
        "id": "i3wt7oMjZwtW"
      },
      "source": [
        "# Credentials\n",
        "cred = credentials.Certificate(\"/content/tinderapi-letsupgrade-9d8d7-firebase-adminsdk-ehaxm-53c18064e5.json\")\n",
        "firebase_app = firebase_admin.initialize_app(cred)\n",
        "store = firestore.client()"
      ],
      "execution_count": null,
      "outputs": []
    },
    {
      "cell_type": "code",
      "metadata": {
        "colab": {
          "base_uri": "https://localhost:8080/"
        },
        "id": "SasI-yxBbrXh",
        "outputId": "4592b6b4-f7d3-4e73-9253-55cd60df40ca"
      },
      "source": [
        "# Auth's Program\n",
        "user = auth.create_user(\n",
        "    email='dassjn.005@gmail.com',\n",
        "    email_verified=False,\n",
        "    password='123456')\n",
        "print('Sucessfully created new user: {0}'.format(user.uid))"
      ],
      "execution_count": null,
      "outputs": [
        {
          "output_type": "stream",
          "text": [
            "Sucessfully created new user: VFzLKTS85SfNcU3PPhAkHO4opOm2\n"
          ],
          "name": "stdout"
        }
      ]
    },
    {
      "cell_type": "code",
      "metadata": {
        "colab": {
          "base_uri": "https://localhost:8080/"
        },
        "id": "XqMOvNbLcQxj",
        "outputId": "700ab0b9-f0ea-41bc-9c24-b22601e26ba5"
      },
      "source": [
        "# User Login\n",
        "try:\n",
        "  user = auth.get_user_by_email(\"dassjn@gmail.com\")\n",
        "  print(user.uid)\n",
        "except:\n",
        "  print(\"Error No User Found\")"
      ],
      "execution_count": null,
      "outputs": [
        {
          "output_type": "stream",
          "text": [
            "Error No User Found\n"
          ],
          "name": "stdout"
        }
      ]
    },
    {
      "cell_type": "code",
      "metadata": {
        "id": "8fBeqD71chfx"
      },
      "source": [
        "#  User SignUp\n",
        "def signUp(emailOfUser, passwordOfUser):\n",
        "  uid = \"\"\n",
        "  message = \"\"\n",
        "  try:\n",
        "    user = auth.create_user(\n",
        "        email = emailOfUser,\n",
        "        email_verified = False,\n",
        "        password = passwordOfUser)\n",
        "    message = \"Successsfully Created New User\"\n",
        "    uid = user.uid\n",
        "  except:   \n",
        "    message = \"User Already There\"\n",
        "\n",
        "  return {\"uid\": uid, \"message\" : message}"
      ],
      "execution_count": null,
      "outputs": []
    },
    {
      "cell_type": "code",
      "metadata": {
        "colab": {
          "base_uri": "https://localhost:8080/"
        },
        "id": "CEDTDlRWdNF8",
        "outputId": "e827f36c-0eb9-415e-bdc3-cc47e8ec9737"
      },
      "source": [
        "signUp(\"dassjn@gmail.com\",\"234567\")"
      ],
      "execution_count": null,
      "outputs": [
        {
          "output_type": "execute_result",
          "data": {
            "text/plain": [
              "{'message': 'Successsfully Created New User',\n",
              " 'uid': 'usvU1zBleRePYrXOcEz6K3nN8Ow1'}"
            ]
          },
          "metadata": {
            "tags": []
          },
          "execution_count": 7
        }
      ]
    },
    {
      "cell_type": "code",
      "metadata": {
        "id": "dTEpP1xNeFYn"
      },
      "source": [
        "# for this project I am doing this not so fair activity with the login, \n",
        "# cozz a user can login, cozz a user can login with just entering Email, this is due to Firebase auth is been implemented natively\n",
        "\n",
        "def login(emailOfUser,passwordOfUser):\n",
        "  uid = \"\"\n",
        "  message = \"\"\n",
        "  try:\n",
        "    user = auth.get_user_by_email(email=emailOfUser)\n",
        "    message = \"Sucessfully created new user\"\n",
        "    uid = user.uid\n",
        "  except:\n",
        "    message = \"User Not there in Firebase!!!\"\n",
        "  return {\"uid\":uid, \"message\":message}"
      ],
      "execution_count": null,
      "outputs": []
    },
    {
      "cell_type": "code",
      "metadata": {
        "colab": {
          "base_uri": "https://localhost:8080/"
        },
        "id": "Mul4rLPTe5_U",
        "outputId": "3d2a435a-81ff-44e6-8882-59f5b481a2ec"
      },
      "source": [
        "# Login\n",
        "login(\"dassjn@gmail.com\",\"234567\")"
      ],
      "execution_count": null,
      "outputs": [
        {
          "output_type": "execute_result",
          "data": {
            "text/plain": [
              "{'message': 'Sucessfully created new user',\n",
              " 'uid': 'usvU1zBleRePYrXOcEz6K3nN8Ow1'}"
            ]
          },
          "metadata": {
            "tags": []
          },
          "execution_count": 9
        }
      ]
    },
    {
      "cell_type": "code",
      "metadata": {
        "colab": {
          "base_uri": "https://localhost:8080/"
        },
        "id": "3EcDwF9gfkf9",
        "outputId": "b6730262-984b-4fba-defe-0ec43fc11fc1"
      },
      "source": [
        "# User not in Firebase\n",
        "login(\"sujandas@sjn.com\",\"123456\")"
      ],
      "execution_count": null,
      "outputs": [
        {
          "output_type": "execute_result",
          "data": {
            "text/plain": [
              "{'message': 'User Not there in Firebase!!!', 'uid': ''}"
            ]
          },
          "metadata": {
            "tags": []
          },
          "execution_count": 10
        }
      ]
    },
    {
      "cell_type": "code",
      "metadata": {
        "id": "3iUo9vkGfwZy"
      },
      "source": [
        "# Update User's Data\n",
        "def updateUserData(uid,dit):\n",
        "\n",
        "  dit_user_details= {}\n",
        "  dit_user_details[\"name\"] = dit[\"name\"]\n",
        "  dit_user_details[\"email\"] = dit[\"email\"]\n",
        "  dit_user_details[\"number\"] = dit[\"number\"]\n",
        "  dit_user_details[\"image\"] = dit[\"image\"]\n",
        "  dit_user_details[\"desp\"] = dit[\"desp\"]\n",
        "  dit_user_details[\"dob\"] = dit[\"dob\"]\n",
        "  dit_user_details[\"gender\"] = dit[\"gender\"]\n",
        "  dit_user_details[\"passion\"] = dit[\"passion\"]\n",
        "  dit_user_details[\"job\"] = dit[\"job\"]\n",
        "  dit_user_details[\"company\"] = dit[\"company\"]\n",
        "\n",
        "  dit_user_details[\"location\"] = dit[\"location\"]\n",
        "  #dit_user_details['location'][\"coordinate\"][\"lat\"] = dit['location'][\"coordinate\"][\"lat\"]\n",
        "  #dit_user_details['location'][\"coordinate\"][\"lng\"] = dit['location'][\"coordinate\"][\"lng\"]\n",
        "  #dit_user_details['location'][\"city\"] = dit['location'][\"city\"]\n",
        "  #dit_user_details['location'][\"state\"] = dit['location'][\"state\"]\n",
        "  #dit_user_details['location'][\"country\"] = dit['location'][\"country\"]\n",
        "\n",
        "  dit_user_details[\"createdAt\"] = firestore.SERVER_TIMESTAMP\n",
        "\n",
        "  store.collection(\"users\").document(uid).set(dit_user_details) #it stores the data into firebase"
      ],
      "execution_count": null,
      "outputs": []
    },
    {
      "cell_type": "code",
      "metadata": {
        "id": "QxKSi4-mgeIj"
      },
      "source": [
        "# Add User Details\n",
        "dit = {}\n",
        "\t\n",
        "dit['name'] = \"Sujan Das\"\n",
        "dit['email'] = \"xyz@gmail.com\"\n",
        "dit['number'] = \"123456789\"\n",
        "dit['image'] = \"https://firebasestorage.googleapis.com/v0/b/tinderapi-letsupgrade-9d8d7.appspot.com/o/mascot_firebase-logo.png?alt=media&token=aca2b54c-1293-4e17-ba42-155e158699df\"\n",
        "dit['desp'] = \"Single !!\"\n",
        "dit['location'] = {\"coordinate\":{\"lat\":27.2046, \"lng\":77.4977},\n",
        "\t\t\t\t\t\t\"city\":\"Purba Bardhaman\",\n",
        "\t\t\t\t\t\t\"state\":\"WestBengal\",\n",
        "\t\t\t\t\t\t\"country\":\"India\"}\n",
        "dit['dob'] = \"30/06/2000\"\n",
        "dit['gender'] = \"male\"\n",
        "dit['passion'] = \"Programmer\"\n",
        "dit['job'] = \"none\"\n",
        "dit['company'] = \"none\""
      ],
      "execution_count": null,
      "outputs": []
    },
    {
      "cell_type": "code",
      "metadata": {
        "id": "C4SZAMZqipwd"
      },
      "source": [
        "updateUserData(\"usvU1zBleRePYrXOcEz6K3nN8Ow1\", dit)"
      ],
      "execution_count": null,
      "outputs": []
    },
    {
      "cell_type": "code",
      "metadata": {
        "id": "YTe6XHzui8UV"
      },
      "source": [
        "# Get the Feed\n",
        "def getFeed(country):\n",
        "  docs = store.collection(\"users\").stream()\n",
        "\n",
        "  dit ={}\n",
        "  for doc in docs:\n",
        "    if doc.to_dict().get(\"location\").get(\"country\") == country:\n",
        "      dit[doc.id] = doc.to_dict()\n",
        "\n",
        "  return dit"
      ],
      "execution_count": null,
      "outputs": []
    },
    {
      "cell_type": "code",
      "metadata": {
        "id": "tYAlqkXHkU3V"
      },
      "source": [
        "allProfiles = getFeed(\"India\")"
      ],
      "execution_count": null,
      "outputs": []
    },
    {
      "cell_type": "code",
      "metadata": {
        "id": "E485Cj9IVXTH"
      },
      "source": [
        "# Swipe\n",
        "# When profile appears, right or left swipe it. Whatever we do, data should be stored.\n",
        "def swipeFun(uidA, uidB, isA_Yes, isB_Yes, firstTime):\n",
        "\tdit = {}\n",
        "\n",
        "\tdit['UID_A'] = uidA\n",
        "\tdit['UID_B'] = uidB\n",
        "\tdit[\"isUserA_Yes\"] = isA_Yes\n",
        "\tdit['isUserB_Yes'] = isB_Yes\n",
        "\tdit['SawOnce'] = firstTime\n",
        "\tdit['createdAt'] = firestore.SERVER_TIMESTAMP\n",
        "\n",
        "\tstore.collection(\"swipes\").add(dit)"
      ],
      "execution_count": null,
      "outputs": []
    },
    {
      "cell_type": "code",
      "metadata": {
        "id": "0N7kvOPhVXLg"
      },
      "source": [
        "uidA = \"usvU1zBleRePYrXOcEz6K3nN8Ow1\"\n",
        "uidB = \"VFzLKTS85SfNcU3PPhAkHO4opOm2\"\n",
        "isA_Yes = True\n",
        "isB_Yes = False\n",
        "\n",
        "firstTime = False\n",
        "swipeFun(uidA, uidB, isA_Yes, isB_Yes, firstTime) "
      ],
      "execution_count": null,
      "outputs": []
    },
    {
      "cell_type": "code",
      "metadata": {
        "id": "WjRjvlTyVWmG"
      },
      "source": [
        "# Match\n",
        "def getMatchFun(uid):\n",
        "\tdocs = store.collection(\"swipes\").stream()\n",
        "\n",
        "\tditSwipes = {}\n",
        "\tfor doc in docs:\n",
        "\t\tif (doc.to_dict().get(\"UID_A\") == uid or doc.to_dict().get(\"UID_B\") == uid) and (doc.to+dict().get(\"isUserA_Yes\") == True and doc.to_dict().get().get(\"isUserB_Yes\") == True):\n",
        "\t\t\tditSwipes[doc.id] = doc.to_dict()\n",
        "\n",
        "\n",
        "\treturn ditSwipes"
      ],
      "execution_count": null,
      "outputs": []
    },
    {
      "cell_type": "code",
      "metadata": {
        "id": "9ulACAODU-fR"
      },
      "source": [
        "getMatchFun(\"VFzLKTS85SfNcU3PPhAkHO4opOm2\") "
      ],
      "execution_count": null,
      "outputs": []
    },
    {
      "cell_type": "code",
      "metadata": {
        "id": "njK1uWIgcVrd"
      },
      "source": [
        ""
      ],
      "execution_count": null,
      "outputs": []
    }
  ]
}